{
  "nbformat": 4,
  "nbformat_minor": 0,
  "metadata": {
    "colab": {
      "name": "Neural Network.ipynb",
      "provenance": [],
      "authorship_tag": "ABX9TyMiOWqNqSSn7kqPEb1XHuZ+",
      "include_colab_link": true
    },
    "kernelspec": {
      "name": "python3",
      "display_name": "Python 3"
    }
  },
  "cells": [
    {
      "cell_type": "markdown",
      "metadata": {
        "id": "view-in-github",
        "colab_type": "text"
      },
      "source": [
        "<a href=\"https://colab.research.google.com/github/mihany/Neural-Network/blob/main/Neural_Network.ipynb\" target=\"_parent\"><img src=\"https://colab.research.google.com/assets/colab-badge.svg\" alt=\"Open In Colab\"/></a>"
      ]
    },
    {
      "cell_type": "code",
      "metadata": {
        "colab": {
          "base_uri": "https://localhost:8080/"
        },
        "id": "hCA2e1oteKLd",
        "outputId": "1695dc76-3bdc-4f4b-b2e7-688388b80102"
      },
      "source": [
        "inputs = [ 1 , 2 , 3 , 2.5 ]\r\n",
        "\r\n",
        "weights1 = [ 0.2 , 0.8 , - 0.5 , 1 ]\r\n",
        "weights2 = [ 0.5 , - 0.91 , 0.26 , - 0.5 ]\r\n",
        "weights3 = [ - 0.26 , - 0.27 , 0.17 , 0.87 ]\r\n",
        "\r\n",
        "bias1 = 2\r\n",
        "bias2 = 3\r\n",
        "bias3 = 0.5\r\n",
        "\r\n",
        "outputs = [\r\n",
        "# Neuron 1:\r\n",
        "inputs[ 0 ] * weights1[ 0 ] +\r\n",
        "inputs[ 1 ] * weights1[ 1 ] +\r\n",
        "inputs[ 2 ] * weights1[ 2 ] +\r\n",
        "inputs[ 3 ] * weights1[ 3 ] + bias1,\r\n",
        "# Neuron 2:\r\n",
        "inputs[ 0 ] * weights2[ 0 ] +\r\n",
        "inputs[ 1 ] * weights2[ 1 ] +\r\n",
        "inputs[ 2 ] * weights2[ 2 ] +\r\n",
        "inputs[ 3 ] * weights2[ 3 ] + bias2,\r\n",
        "# Neuron 3:\r\n",
        "inputs[ 0 ] * weights3[ 0 ] +\r\n",
        "inputs[ 1 ] * weights3[ 1 ] +\r\n",
        "inputs[ 2 ] * weights3[ 2 ] +\r\n",
        "inputs[ 3 ] * weights3[ 3 ] + bias3]\r\n",
        "\r\n",
        "print (outputs)"
      ],
      "execution_count": 2,
      "outputs": [
        {
          "output_type": "stream",
          "text": [
            "[4.8, 1.21, 2.385]\n"
          ],
          "name": "stdout"
        }
      ]
    }
  ]
}